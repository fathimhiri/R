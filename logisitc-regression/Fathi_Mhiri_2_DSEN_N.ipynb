{
  "nbformat": 4,
  "nbformat_minor": 0,
  "metadata": {
    "colab": {
      "name": "Fathi_Mhiri-2-DSEN-N.ipynb",
      "provenance": [],
      "collapsed_sections": []
    },
    "kernelspec": {
      "name": "ir",
      "display_name": "R"
    },
    "language_info": {
      "name": "R"
    }
  },
  "cells": [
    {
      "cell_type": "markdown",
      "source": [
        "Nom: Mhiri\n",
        "\n",
        "Prenom: Fathi chamseddine\n",
        "\n",
        "class: 2-DSEN-N\n",
        "\n",
        "projet : Analyse statique (Logisitc Regression)\n"
      ],
      "metadata": {
        "id": "For8hGY9tHFE"
      }
    },
    {
      "cell_type": "markdown",
      "source": [
        " # <font color='red'>Regression logistique</font> "
      ],
      "metadata": {
        "id": "gUFs7FsP_PSz"
      }
    },
    {
      "cell_type": "markdown",
      "source": [
        "# <font color='red'>Definition:</font> \n",
        "la régression logistique:\n",
        " \n",
        "\n",
        "La régression logistique est un modèle statistique permettant d’étudier les relations entre un ensemble de variables qualitatives Xi et une variable qualitative Y. Il s’agit d’un modèle linéaire généralisé utilisant une fonction logistique comme fonction de lien. \n",
        "\n",
        "Un modèle de régression logistique permet aussi de prédire la probabilité qu’un événement arrive (valeur de 1) ou non (valeur de 0) à partir de l’optimisation des coefficients de régression. Ce résultat varie toujours entre 0 et 1. Lorsque la valeur prédite est supérieure à un seuil, l’événement est susceptible de se produire, alors que lorsque cette valeur est inférieure au même seuil, il ne l’est pas.\n",
        "\n"
      ],
      "metadata": {
        "id": "EcW3_AvZ_sIB"
      }
    },
    {
      "cell_type": "markdown",
      "source": [
        "Mathématiquement, comment ça se traduit/ça s’écrit ?\n",
        "Considérons une entrée  X= x1 x2 x3 …  xn , la régression logistique a pour objectif de trouver une fonction h telle que nous puissions calculer :\n",
        "\n",
        "y= {1   si   hX≥ seuil ,  0   si   hX< seuil}  \n",
        "\n",
        "\n",
        "\n",
        "La fonction qui remplit le mieux ces conditions est la fonction sigmoïde, définie sur R à valeurs dans [0,1]. Elle s’écrit de la manière suivante :\n",
        "\n",
        "![image.png](data:image/png;base64,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)\n",
        "\n",
        "\n",
        "Graphiquement, celle-ci correspond à une courbe en forme de S qui a pour limites 0 et 1 lorsque x tend respectivement vers -∞ et +∞ passant par y = 0.5 en x = 0."
      ],
      "metadata": {
        "id": "fgde2usMLfOc"
      }
    },
    {
      "cell_type": "code",
      "source": [
        "library(ggplot2)\n",
        "\n",
        "sigmoid <- function(t){ 1/(1+exp(-t)) }     # on definit la fonction sigmoid \n",
        "\n",
        "dummy_frame <- data.frame(x=c(-6,6))\n",
        "\n",
        "ggplot(data=dummy_frame) +                  # on fait le Plot de la fonction \n",
        "  stat_function(fun=sigmoid) +\n",
        "  xlim(-6,6)"
      ],
      "metadata": {
        "colab": {
          "base_uri": "https://localhost:8080/",
          "height": 437
        },
        "id": "X0710bbFgwgt",
        "outputId": "14e5938b-6762-4336-d4d9-3c1b3ef1a244"
      },
      "execution_count": 4,
      "outputs": [
        {
          "output_type": "display_data",
          "data": {
            "text/plain": [
              "plot without title"
            ],
            "image/png": "[encoded data removed]"
          },
          "metadata": {
            "image/png": {
              "width": 420,
              "height": 420
            }
          }
        }
      ]
    },
    {
      "cell_type": "markdown",
      "source": [
        "##<font color='red'>Régression linéaire vs régression logistique</font> "
      ],
      "metadata": {
        "id": "ZcbPoty4L8QF"
      }
    },
    {
      "cell_type": "markdown",
      "source": [
        "Les régressions linéaire et logistique font partie des modèles les plus populaires de la science des données, et les outils open source, comme Python et R, rendent leur calcul rapide et facile.\n",
        "\n",
        "Les modèles de régression linéaire sont utilisés pour identifier la relation entre une variable dépendante continue et une ou plusieurs variables indépendantes. Lorsqu'il n'y a qu'une seule variable indépendante et une seule variable dépendante, on parle de régression linéaire simple, mais à mesure que le nombre de variables indépendantes augmente, on parle de régression linéaire multiple. Pour chaque type de régression linéaire, il cherche à tracer une ligne de meilleur ajustement à travers un ensemble de points de données, qui est généralement calculé à l'aide de la méthode des moindres carrés.\n",
        "\n",
        "\n",
        "\n",
        "Semblable à la régression linéaire, la régression logistique est également utilisée pour estimer la relation entre une variable dépendante et une ou plusieurs variables indépendantes, mais elle est utilisée pour faire une prédiction sur une variable catégorielle par rapport à une variable continue. Une variable catégorielle peut être vraie ou fausse, oui ou non, 1 ou 0, etc. L'unité de mesure diffère également de la régression linéaire car elle produit une probabilité, mais la fonction logit transforme la courbe en S en ligne droite.  \n",
        "\n",
        "\n",
        "\n",
        "Alors que les deux modèles sont utilisés dans l'analyse de régression pour faire des prédictions sur les résultats futurs, la régression linéaire est généralement plus facile à comprendre. La régression linéaire ne nécessite pas non plus une taille d'échantillon aussi grande que la régression logistique nécessite un échantillon adéquat pour représenter les valeurs dans toutes les catégories de réponse. Sans un échantillon représentatif plus grand, le modèle peut ne pas avoir une puissance statistique suffisante pour détecter un effet significatif."
      ],
      "metadata": {
        "id": "zlKADUTwMW4R"
      }
    },
    {
      "cell_type": "markdown",
      "source": [
        "##<font color='red'>Types de régression logistique</font> "
      ],
      "metadata": {
        "id": "ObI3binVMiTi"
      }
    },
    {
      "cell_type": "markdown",
      "source": [
        "Il existe trois types de modèles de régression logistique, qui sont définis en fonction de la réponse catégorique.\n",
        "\n",
        "**Régression logistique binaire :** dans cette approche, la réponse ou la variable dépendante est de nature dichotomique, c'est-à-dire il n'a que deux résultats possibles (par exemple 0 ou 1). Certains exemples populaires de son utilisation incluent la prédiction si un e-mail est un spam ou non ou si une tumeur est maligne ou non maligne. Dans la régression logistique, c'est l'approche la plus couramment utilisée, et plus généralement, c'est l'un des classificateurs les plus courants pour la classification binaire.\n",
        "\n",
        " "
      ],
      "metadata": {
        "id": "-Cnh_VaXMsJE"
      }
    },
    {
      "cell_type": "markdown",
      "source": [
        "**Régression logistique multinomiale :** dans ce type de modèle de régression logistique, la variable dépendante a trois résultats possibles ou plus ; cependant, ces valeurs n'ont pas d'ordre spécifié.  Par exemple, les studios de cinéma veulent prédire quel genre de film un spectateur est susceptible de voir pour commercialiser les films plus efficacement. Un modèle de régression logistique multinomiale peut aider le studio à déterminer la force de l'influence que l'âge, le sexe et le statut amoureux d'une personne peuvent avoir sur le type de film qu'elle préfère. Le studio peut alors orienter une campagne publicitaire d'un film spécifique vers un groupe de personnes susceptibles d'aller le voir."
      ],
      "metadata": {
        "id": "LXeLhJCMMsNC"
      }
    },
    {
      "cell_type": "markdown",
      "source": [
        "**Régression logistique ordinale :** ce type de modèle de régression logistique est exploité lorsque la variable de réponse a trois résultats possibles ou plus, mais dans ce cas, ces valeurs ont un ordre défini. Des exemples de réponses ordinales comprennent des échelles de notation de A à F ou des échelles de notation de 1 à 5."
      ],
      "metadata": {
        "id": "P18EwjPpMsPg"
      }
    },
    {
      "cell_type": "markdown",
      "source": [
        "##<font color='red'>Régression logistique et apprentissage automatique</font> "
      ],
      "metadata": {
        "id": "AX5vvLpYMsTR"
      }
    },
    {
      "cell_type": "markdown",
      "source": [
        "Au sein de l'apprentissage automatique, la régression logistique appartient à la famille des modèles d'apprentissage automatique supervisé. Il est également considéré comme un modèle discriminatif, ce qui signifie qu'il tente de distinguer les classes (ou catégories). Contrairement à un algorithme génératif, tel que naïve bayes, il ne peut pas, comme son nom l'indique, générer des informations, telles qu'une image, de la classe qu'il tente de prédire (par exemple, l'image d'un chat)."
      ],
      "metadata": {
        "id": "MeffLerqNSkN"
      }
    },
    {
      "cell_type": "markdown",
      "source": [
        "Précédemment, nous avons mentionné comment la régression logistique maximise la fonction log de vraisemblance pour déterminer les coefficients bêta du modèle. Cela change légèrement dans le contexte de l'apprentissage automatique. Dans l'apprentissage automatique, la vraisemblance logarithmique négative est utilisée comme fonction de perte, en utilisant le processus de descente de gradient pour trouver le maximum global. C'est juste une autre façon d'arriver aux mêmes estimations discutées ci-dessus."
      ],
      "metadata": {
        "id": "I2Kzm7wfNSrJ"
      }
    },
    {
      "cell_type": "markdown",
      "source": [
        "La régression logistique peut également être sujette à un surajustement, en particulier lorsqu'il existe un nombre élevé de variables prédictives dans le modèle. La régularisation est généralement utilisée pour pénaliser les paramètres à grands coefficients lorsque le modèle souffre d'une grande dimensionnalité."
      ],
      "metadata": {
        "id": "J3HvFE--NSxB"
      }
    },
    {
      "cell_type": "markdown",
      "source": [
        "##<font color='red'>Cas d'utilisation de régression logistique</font> "
      ],
      "metadata": {
        "id": "s3b7zT_xMiWh"
      }
    },
    {
      "cell_type": "markdown",
      "source": [
        "La régression logistique est couramment utilisée pour les problèmes de prédiction et de classification. Certains de ces cas d'utilisation incluent :"
      ],
      "metadata": {
        "id": "J-dZlkv_NfXT"
      }
    },
    {
      "cell_type": "markdown",
      "source": [
        "**Détection de la fraude :** les modèles de régression logistique peuvent aider les équipes à identifier les anomalies de données, qui sont prédictives de la fraude. Certains comportements ou caractéristiques peuvent être davantage associés à des activités frauduleuses, ce qui est particulièrement utile aux institutions bancaires et autres institutions financières pour protéger leurs clients. Les entreprises basées sur le SaaS ont également commencé à adopter ces pratiques pour éliminer les faux comptes d'utilisateurs de leurs ensembles de données lors de l'analyse des données sur les performances de l'entreprise."
      ],
      "metadata": {
        "id": "08edKEmrMiYw"
      }
    },
    {
      "cell_type": "markdown",
      "source": [
        "**Prédiction des maladies :** en médecine, cette approche analytique peut être utilisée pour prédire la probabilité d'une maladie ou d'une maladie pour une population donnée. Les organismes de santé peuvent mettre en place des soins préventifs pour les personnes qui présentent une propension plus élevée à certaines maladies."
      ],
      "metadata": {
        "id": "UPPnjtv_Miat"
      }
    },
    {
      "cell_type": "markdown",
      "source": [
        "**Prédiction de l'attrition :** des comportements spécifiques peuvent indiquer un taux d'attrition dans différentes fonctions d'une organisation. Par exemple, les équipes des ressources humaines et de gestion peuvent vouloir savoir s'il y a des employés très performants au sein de l'entreprise qui risquent de quitter l'entreprise ; ce type d'informations peut susciter des conversations pour comprendre les problèmes au sein de l'entreprise, tels que la culture ou la rémunération. Alternativement, l'organisation commerciale peut vouloir savoir lesquels de ses clients risquent de faire affaire ailleurs. Cela peut inciter les équipes à mettre en place une stratégie de rétention pour éviter les pertes de revenus."
      ],
      "metadata": {
        "id": "52lLuLsoMicr"
      }
    },
    {
      "cell_type": "markdown",
      "source": [
        " # <font color='red'>Etude pratique</font> "
      ],
      "metadata": {
        "id": "K7SawbJqhBj0"
      }
    },
    {
      "cell_type": "markdown",
      "source": [
        "Pour l'etude pratique j'ai pensé de travailler avec les données d'entraînement de la fameuse datset Titanic. on commencerons par charger les données, puis effectuerons quelques tâches de prétraitement, et enfin la prediction."
      ],
      "metadata": {
        "id": "W2Kk7eO1hBwz"
      }
    },
    {
      "cell_type": "markdown",
      "source": [
        "le lien pour le dataset :\n",
        "https://www.kaggle.com/competitions/titanic/data?select=train.csv"
      ],
      "metadata": {
        "id": "izL7zSIri501"
      }
    },
    {
      "cell_type": "code",
      "source": [
        "install.packages('caret', dependencies = TRUE)\n",
        "library(caret)\n",
        "\n",
        "titanic_train <- read.csv(\"/content/train.csv\")\n",
        "\n"
      ],
      "metadata": {
        "colab": {
          "base_uri": "https://localhost:8080/"
        },
        "id": "gnZVd2EDh7rF",
        "outputId": "dc44c90d-e131-4bb0-9ad7-4098d3727446"
      },
      "execution_count": 8,
      "outputs": [
        {
          "output_type": "stream",
          "name": "stderr",
          "text": [
            "Installing package into ‘/usr/local/lib/R/site-library’\n",
            "(as ‘lib’ is unspecified)\n",
            "\n",
            "also installing the dependencies ‘listenv’, ‘parallelly’, ‘future’, ‘globals’, ‘R.methodsS3’, ‘R.oo’, ‘R.utils’, ‘bitops’, ‘future.apply’, ‘progressr’, ‘numDeriv’, ‘SQUAREM’, ‘httpuv’, ‘xtable’, ‘fontawesome’, ‘sourcetools’, ‘later’, ‘promises’, ‘R.cache’, ‘caTools’, ‘TH.data’, ‘profileModel’, ‘minqa’, ‘nloptr’, ‘RcppEigen’, ‘lazyeval’, ‘plotrix’, ‘lava’, ‘shiny’, ‘miniUI’, ‘styler’, ‘classInt’, ‘labelled’, ‘gplots’, ‘libcoin’, ‘matrixStats’, ‘multcomp’, ‘iterators’, ‘Rcpp’, ‘gower’, ‘hardhat’, ‘timeDate’, ‘brglm’, ‘gtools’, ‘lme4’, ‘qvcalc’, ‘rex’, ‘Formula’, ‘plotmo’, ‘TeachingDemos’, ‘prodlim’, ‘combinat’, ‘questionr’, ‘ROCR’, ‘mvtnorm’, ‘modeltools’, ‘strucchange’, ‘coin’, ‘zoo’, ‘sandwich’, ‘ISwR’, ‘corpcor’, ‘ROSE’, ‘e1071’, ‘foreach’, ‘ModelMetrics’, ‘plyr’, ‘pROC’, ‘recipes’, ‘reshape2’, ‘BradleyTerry2’, ‘covr’, ‘Cubist’, ‘earth’, ‘ellipse’, ‘fastICA’, ‘gam’, ‘ipred’, ‘kernlab’, ‘klaR’, ‘mda’, ‘mlbench’, ‘MLmetrics’, ‘pamr’, ‘party’, ‘pls’, ‘proxy’, ‘randomForest’, ‘RANN’, ‘spls’, ‘subselect’, ‘superpc’, ‘themis’\n",
            "\n",
            "\n",
            "Loading required package: lattice\n",
            "\n",
            "Warning message in system(\"timedatectl\", intern = TRUE):\n",
            "“running command 'timedatectl' had status 1”\n"
          ]
        }
      ]
    },
    {
      "cell_type": "code",
      "source": [
        "library(caret)\n",
        "\n",
        "titanic_train <- read.csv(\"/content/train.csv\")"
      ],
      "metadata": {
        "id": "mnAgpQs8j4SU"
      },
      "execution_count": 9,
      "outputs": []
    },
    {
      "cell_type": "code",
      "source": [
        "titanic_train"
      ],
      "metadata": {
        "colab": {
          "base_uri": "https://localhost:8080/",
          "height": 1000
        },
        "id": "Sj3WgMQyjIZe",
        "outputId": "d46ca453-4297-4602-baa3-5d0519cfad65"
      },
      "execution_count": 10,
      "outputs": [
        {
          "output_type": "display_data",
          "data": {
            "text/html": [
              "<table class=\"dataframe\">\n",
              "<caption>A data.frame: 891 × 12</caption>\n",
              "<thead>\n",
              "\t<tr><th scope=col>PassengerId</th><th scope=col>Survived</th><th scope=col>Pclass</th><th scope=col>Name</th><th scope=col>Sex</th><th scope=col>Age</th><th scope=col>SibSp</th><th scope=col>Parch</th><th scope=col>Ticket</th><th scope=col>Fare</th><th scope=col>Cabin</th><th scope=col>Embarked</th></tr>\n",
              "\t<tr><th scope=col>&lt;int&gt;</th><th scope=col>&lt;int&gt;</th><th scope=col>&lt;int&gt;</th><th scope=col>&lt;chr&gt;</th><th scope=col>&lt;chr&gt;</th><th scope=col>&lt;dbl&gt;</th><th scope=col>&lt;int&gt;</th><th scope=col>&lt;int&gt;</th><th scope=col>&lt;chr&gt;</th><th scope=col>&lt;dbl&gt;</th><th scope=col>&lt;chr&gt;</th><th scope=col>&lt;chr&gt;</th></tr>\n",
              "</thead>\n",
              "<tbody>\n",
              "\t<tr><td> 1</td><td>0</td><td>3</td><td>Braund, Mr. Owen Harris                                  </td><td>male  </td><td>22</td><td>1</td><td>0</td><td>A/5 21171       </td><td>  7.2500</td><td>           </td><td>S</td></tr>\n",
              "\t<tr><td> 2</td><td>1</td><td>1</td><td>Cumings, Mrs. John Bradley (Florence Briggs Thayer)      </td><td>female</td><td>38</td><td>1</td><td>0</td><td>PC 17599        </td><td> 71.2833</td><td>C85        </td><td>C</td></tr>\n",
              "\t<tr><td> 3</td><td>1</td><td>3</td><td>Heikkinen, Miss. Laina                                   </td><td>female</td><td>26</td><td>0</td><td>0</td><td>STON/O2. 3101282</td><td>  7.9250</td><td>           </td><td>S</td></tr>\n",
              "\t<tr><td> 4</td><td>1</td><td>1</td><td>Futrelle, Mrs. Jacques Heath (Lily May Peel)             </td><td>female</td><td>35</td><td>1</td><td>0</td><td>113803          </td><td> 53.1000</td><td>C123       </td><td>S</td></tr>\n",
              "\t<tr><td> 5</td><td>0</td><td>3</td><td>Allen, Mr. William Henry                                 </td><td>male  </td><td>35</td><td>0</td><td>0</td><td>373450          </td><td>  8.0500</td><td>           </td><td>S</td></tr>\n",
              "\t<tr><td> 6</td><td>0</td><td>3</td><td>Moran, Mr. James                                         </td><td>male  </td><td>NA</td><td>0</td><td>0</td><td>330877          </td><td>  8.4583</td><td>           </td><td>Q</td></tr>\n",
              "\t<tr><td> 7</td><td>0</td><td>1</td><td>McCarthy, Mr. Timothy J                                  </td><td>male  </td><td>54</td><td>0</td><td>0</td><td>17463           </td><td> 51.8625</td><td>E46        </td><td>S</td></tr>\n",
              "\t<tr><td> 8</td><td>0</td><td>3</td><td>Palsson, Master. Gosta Leonard                           </td><td>male  </td><td> 2</td><td>3</td><td>1</td><td>349909          </td><td> 21.0750</td><td>           </td><td>S</td></tr>\n",
              "\t<tr><td> 9</td><td>1</td><td>3</td><td>Johnson, Mrs. Oscar W (Elisabeth Vilhelmina Berg)        </td><td>female</td><td>27</td><td>0</td><td>2</td><td>347742          </td><td> 11.1333</td><td>           </td><td>S</td></tr>\n",
              "\t<tr><td>10</td><td>1</td><td>2</td><td>Nasser, Mrs. Nicholas (Adele Achem)                      </td><td>female</td><td>14</td><td>1</td><td>0</td><td>237736          </td><td> 30.0708</td><td>           </td><td>C</td></tr>\n",
              "\t<tr><td>11</td><td>1</td><td>3</td><td>Sandstrom, Miss. Marguerite Rut                          </td><td>female</td><td> 4</td><td>1</td><td>1</td><td>PP 9549         </td><td> 16.7000</td><td>G6         </td><td>S</td></tr>\n",
              "\t<tr><td>12</td><td>1</td><td>1</td><td>Bonnell, Miss. Elizabeth                                 </td><td>female</td><td>58</td><td>0</td><td>0</td><td>113783          </td><td> 26.5500</td><td>C103       </td><td>S</td></tr>\n",
              "\t<tr><td>13</td><td>0</td><td>3</td><td>Saundercock, Mr. William Henry                           </td><td>male  </td><td>20</td><td>0</td><td>0</td><td>A/5. 2151       </td><td>  8.0500</td><td>           </td><td>S</td></tr>\n",
              "\t<tr><td>14</td><td>0</td><td>3</td><td>Andersson, Mr. Anders Johan                              </td><td>male  </td><td>39</td><td>1</td><td>5</td><td>347082          </td><td> 31.2750</td><td>           </td><td>S</td></tr>\n",
              "\t<tr><td>15</td><td>0</td><td>3</td><td>Vestrom, Miss. Hulda Amanda Adolfina                     </td><td>female</td><td>14</td><td>0</td><td>0</td><td>350406          </td><td>  7.8542</td><td>           </td><td>S</td></tr>\n",
              "\t<tr><td>16</td><td>1</td><td>2</td><td>Hewlett, Mrs. (Mary D Kingcome)                          </td><td>female</td><td>55</td><td>0</td><td>0</td><td>248706          </td><td> 16.0000</td><td>           </td><td>S</td></tr>\n",
              "\t<tr><td>17</td><td>0</td><td>3</td><td>Rice, Master. Eugene                                     </td><td>male  </td><td> 2</td><td>4</td><td>1</td><td>382652          </td><td> 29.1250</td><td>           </td><td>Q</td></tr>\n",
              "\t<tr><td>18</td><td>1</td><td>2</td><td>Williams, Mr. Charles Eugene                             </td><td>male  </td><td>NA</td><td>0</td><td>0</td><td>244373          </td><td> 13.0000</td><td>           </td><td>S</td></tr>\n",
              "\t<tr><td>19</td><td>0</td><td>3</td><td>Vander Planke, Mrs. Julius (Emelia Maria Vandemoortele)  </td><td>female</td><td>31</td><td>1</td><td>0</td><td>345763          </td><td> 18.0000</td><td>           </td><td>S</td></tr>\n",
              "\t<tr><td>20</td><td>1</td><td>3</td><td>Masselmani, Mrs. Fatima                                  </td><td>female</td><td>NA</td><td>0</td><td>0</td><td>2649            </td><td>  7.2250</td><td>           </td><td>C</td></tr>\n",
              "\t<tr><td>21</td><td>0</td><td>2</td><td>Fynney, Mr. Joseph J                                     </td><td>male  </td><td>35</td><td>0</td><td>0</td><td>239865          </td><td> 26.0000</td><td>           </td><td>S</td></tr>\n",
              "\t<tr><td>22</td><td>1</td><td>2</td><td>Beesley, Mr. Lawrence                                    </td><td>male  </td><td>34</td><td>0</td><td>0</td><td>248698          </td><td> 13.0000</td><td>D56        </td><td>S</td></tr>\n",
              "\t<tr><td>23</td><td>1</td><td>3</td><td>McGowan, Miss. Anna \"Annie\"                              </td><td>female</td><td>15</td><td>0</td><td>0</td><td>330923          </td><td>  8.0292</td><td>           </td><td>Q</td></tr>\n",
              "\t<tr><td>24</td><td>1</td><td>1</td><td>Sloper, Mr. William Thompson                             </td><td>male  </td><td>28</td><td>0</td><td>0</td><td>113788          </td><td> 35.5000</td><td>A6         </td><td>S</td></tr>\n",
              "\t<tr><td>25</td><td>0</td><td>3</td><td>Palsson, Miss. Torborg Danira                            </td><td>female</td><td> 8</td><td>3</td><td>1</td><td>349909          </td><td> 21.0750</td><td>           </td><td>S</td></tr>\n",
              "\t<tr><td>26</td><td>1</td><td>3</td><td>Asplund, Mrs. Carl Oscar (Selma Augusta Emilia Johansson)</td><td>female</td><td>38</td><td>1</td><td>5</td><td>347077          </td><td> 31.3875</td><td>           </td><td>S</td></tr>\n",
              "\t<tr><td>27</td><td>0</td><td>3</td><td>Emir, Mr. Farred Chehab                                  </td><td>male  </td><td>NA</td><td>0</td><td>0</td><td>2631            </td><td>  7.2250</td><td>           </td><td>C</td></tr>\n",
              "\t<tr><td>28</td><td>0</td><td>1</td><td>Fortune, Mr. Charles Alexander                           </td><td>male  </td><td>19</td><td>3</td><td>2</td><td>19950           </td><td>263.0000</td><td>C23 C25 C27</td><td>S</td></tr>\n",
              "\t<tr><td>29</td><td>1</td><td>3</td><td>O'Dwyer, Miss. Ellen \"Nellie\"                            </td><td>female</td><td>NA</td><td>0</td><td>0</td><td>330959          </td><td>  7.8792</td><td>           </td><td>Q</td></tr>\n",
              "\t<tr><td>30</td><td>0</td><td>3</td><td>Todoroff, Mr. Lalio                                      </td><td>male  </td><td>NA</td><td>0</td><td>0</td><td>349216          </td><td>  7.8958</td><td>           </td><td>S</td></tr>\n",
              "\t<tr><td>⋮</td><td>⋮</td><td>⋮</td><td>⋮</td><td>⋮</td><td>⋮</td><td>⋮</td><td>⋮</td><td>⋮</td><td>⋮</td><td>⋮</td><td>⋮</td></tr>\n",
              "\t<tr><td>862</td><td>0</td><td>2</td><td>Giles, Mr. Frederick Edward                        </td><td>male  </td><td>21</td><td>1</td><td>0</td><td>28134           </td><td>11.5000</td><td>           </td><td>S</td></tr>\n",
              "\t<tr><td>863</td><td>1</td><td>1</td><td>Swift, Mrs. Frederick Joel (Margaret Welles Barron)</td><td>female</td><td>48</td><td>0</td><td>0</td><td>17466           </td><td>25.9292</td><td>D17        </td><td>S</td></tr>\n",
              "\t<tr><td>864</td><td>0</td><td>3</td><td>Sage, Miss. Dorothy Edith \"Dolly\"                  </td><td>female</td><td>NA</td><td>8</td><td>2</td><td>CA. 2343        </td><td>69.5500</td><td>           </td><td>S</td></tr>\n",
              "\t<tr><td>865</td><td>0</td><td>2</td><td>Gill, Mr. John William                             </td><td>male  </td><td>24</td><td>0</td><td>0</td><td>233866          </td><td>13.0000</td><td>           </td><td>S</td></tr>\n",
              "\t<tr><td>866</td><td>1</td><td>2</td><td>Bystrom, Mrs. (Karolina)                           </td><td>female</td><td>42</td><td>0</td><td>0</td><td>236852          </td><td>13.0000</td><td>           </td><td>S</td></tr>\n",
              "\t<tr><td>867</td><td>1</td><td>2</td><td>Duran y More, Miss. Asuncion                       </td><td>female</td><td>27</td><td>1</td><td>0</td><td>SC/PARIS 2149   </td><td>13.8583</td><td>           </td><td>C</td></tr>\n",
              "\t<tr><td>868</td><td>0</td><td>1</td><td>Roebling, Mr. Washington Augustus II               </td><td>male  </td><td>31</td><td>0</td><td>0</td><td>PC 17590        </td><td>50.4958</td><td>A24        </td><td>S</td></tr>\n",
              "\t<tr><td>869</td><td>0</td><td>3</td><td>van Melkebeke, Mr. Philemon                        </td><td>male  </td><td>NA</td><td>0</td><td>0</td><td>345777          </td><td> 9.5000</td><td>           </td><td>S</td></tr>\n",
              "\t<tr><td>870</td><td>1</td><td>3</td><td>Johnson, Master. Harold Theodor                    </td><td>male  </td><td> 4</td><td>1</td><td>1</td><td>347742          </td><td>11.1333</td><td>           </td><td>S</td></tr>\n",
              "\t<tr><td>871</td><td>0</td><td>3</td><td>Balkic, Mr. Cerin                                  </td><td>male  </td><td>26</td><td>0</td><td>0</td><td>349248          </td><td> 7.8958</td><td>           </td><td>S</td></tr>\n",
              "\t<tr><td>872</td><td>1</td><td>1</td><td>Beckwith, Mrs. Richard Leonard (Sallie Monypeny)   </td><td>female</td><td>47</td><td>1</td><td>1</td><td>11751           </td><td>52.5542</td><td>D35        </td><td>S</td></tr>\n",
              "\t<tr><td>873</td><td>0</td><td>1</td><td>Carlsson, Mr. Frans Olof                           </td><td>male  </td><td>33</td><td>0</td><td>0</td><td>695             </td><td> 5.0000</td><td>B51 B53 B55</td><td>S</td></tr>\n",
              "\t<tr><td>874</td><td>0</td><td>3</td><td>Vander Cruyssen, Mr. Victor                        </td><td>male  </td><td>47</td><td>0</td><td>0</td><td>345765          </td><td> 9.0000</td><td>           </td><td>S</td></tr>\n",
              "\t<tr><td>875</td><td>1</td><td>2</td><td>Abelson, Mrs. Samuel (Hannah Wizosky)              </td><td>female</td><td>28</td><td>1</td><td>0</td><td>P/PP 3381       </td><td>24.0000</td><td>           </td><td>C</td></tr>\n",
              "\t<tr><td>876</td><td>1</td><td>3</td><td>Najib, Miss. Adele Kiamie \"Jane\"                   </td><td>female</td><td>15</td><td>0</td><td>0</td><td>2667            </td><td> 7.2250</td><td>           </td><td>C</td></tr>\n",
              "\t<tr><td>877</td><td>0</td><td>3</td><td>Gustafsson, Mr. Alfred Ossian                      </td><td>male  </td><td>20</td><td>0</td><td>0</td><td>7534            </td><td> 9.8458</td><td>           </td><td>S</td></tr>\n",
              "\t<tr><td>878</td><td>0</td><td>3</td><td>Petroff, Mr. Nedelio                               </td><td>male  </td><td>19</td><td>0</td><td>0</td><td>349212          </td><td> 7.8958</td><td>           </td><td>S</td></tr>\n",
              "\t<tr><td>879</td><td>0</td><td>3</td><td>Laleff, Mr. Kristo                                 </td><td>male  </td><td>NA</td><td>0</td><td>0</td><td>349217          </td><td> 7.8958</td><td>           </td><td>S</td></tr>\n",
              "\t<tr><td>880</td><td>1</td><td>1</td><td>Potter, Mrs. Thomas Jr (Lily Alexenia Wilson)      </td><td>female</td><td>56</td><td>0</td><td>1</td><td>11767           </td><td>83.1583</td><td>C50        </td><td>C</td></tr>\n",
              "\t<tr><td>881</td><td>1</td><td>2</td><td>Shelley, Mrs. William (Imanita Parrish Hall)       </td><td>female</td><td>25</td><td>0</td><td>1</td><td>230433          </td><td>26.0000</td><td>           </td><td>S</td></tr>\n",
              "\t<tr><td>882</td><td>0</td><td>3</td><td>Markun, Mr. Johann                                 </td><td>male  </td><td>33</td><td>0</td><td>0</td><td>349257          </td><td> 7.8958</td><td>           </td><td>S</td></tr>\n",
              "\t<tr><td>883</td><td>0</td><td>3</td><td>Dahlberg, Miss. Gerda Ulrika                       </td><td>female</td><td>22</td><td>0</td><td>0</td><td>7552            </td><td>10.5167</td><td>           </td><td>S</td></tr>\n",
              "\t<tr><td>884</td><td>0</td><td>2</td><td>Banfield, Mr. Frederick James                      </td><td>male  </td><td>28</td><td>0</td><td>0</td><td>C.A./SOTON 34068</td><td>10.5000</td><td>           </td><td>S</td></tr>\n",
              "\t<tr><td>885</td><td>0</td><td>3</td><td>Sutehall, Mr. Henry Jr                             </td><td>male  </td><td>25</td><td>0</td><td>0</td><td>SOTON/OQ 392076 </td><td> 7.0500</td><td>           </td><td>S</td></tr>\n",
              "\t<tr><td>886</td><td>0</td><td>3</td><td>Rice, Mrs. William (Margaret Norton)               </td><td>female</td><td>39</td><td>0</td><td>5</td><td>382652          </td><td>29.1250</td><td>           </td><td>Q</td></tr>\n",
              "\t<tr><td>887</td><td>0</td><td>2</td><td>Montvila, Rev. Juozas                              </td><td>male  </td><td>27</td><td>0</td><td>0</td><td>211536          </td><td>13.0000</td><td>           </td><td>S</td></tr>\n",
              "\t<tr><td>888</td><td>1</td><td>1</td><td>Graham, Miss. Margaret Edith                       </td><td>female</td><td>19</td><td>0</td><td>0</td><td>112053          </td><td>30.0000</td><td>B42        </td><td>S</td></tr>\n",
              "\t<tr><td>889</td><td>0</td><td>3</td><td>Johnston, Miss. Catherine Helen \"Carrie\"           </td><td>female</td><td>NA</td><td>1</td><td>2</td><td>W./C. 6607      </td><td>23.4500</td><td>           </td><td>S</td></tr>\n",
              "\t<tr><td>890</td><td>1</td><td>1</td><td>Behr, Mr. Karl Howell                              </td><td>male  </td><td>26</td><td>0</td><td>0</td><td>111369          </td><td>30.0000</td><td>C148       </td><td>C</td></tr>\n",
              "\t<tr><td>891</td><td>0</td><td>3</td><td>Dooley, Mr. Patrick                                </td><td>male  </td><td>32</td><td>0</td><td>0</td><td>370376          </td><td> 7.7500</td><td>           </td><td>Q</td></tr>\n",
              "</tbody>\n",
              "</table>\n"
            ],
            "text/markdown": "\nA data.frame: 891 × 12\n\n| PassengerId &lt;int&gt; | Survived &lt;int&gt; | Pclass &lt;int&gt; | Name &lt;chr&gt; | Sex &lt;chr&gt; | Age &lt;dbl&gt; | SibSp &lt;int&gt; | Parch &lt;int&gt; | Ticket &lt;chr&gt; | Fare &lt;dbl&gt; | Cabin &lt;chr&gt; | Embarked &lt;chr&gt; |\n|---|---|---|---|---|---|---|---|---|---|---|---|\n|  1 | 0 | 3 | Braund, Mr. Owen Harris                                   | male   | 22 | 1 | 0 | A/5 21171        |   7.2500 | <!----> | S |\n|  2 | 1 | 1 | Cumings, Mrs. John Bradley (Florence Briggs Thayer)       | female | 38 | 1 | 0 | PC 17599         |  71.2833 | C85         | C |\n|  3 | 1 | 3 | Heikkinen, Miss. Laina                                    | female | 26 | 0 | 0 | STON/O2. 3101282 |   7.9250 | <!----> | S |\n|  4 | 1 | 1 | Futrelle, Mrs. Jacques Heath (Lily May Peel)              | female | 35 | 1 | 0 | 113803           |  53.1000 | C123        | S |\n|  5 | 0 | 3 | Allen, Mr. William Henry                                  | male   | 35 | 0 | 0 | 373450           |   8.0500 | <!----> | S |\n|  6 | 0 | 3 | Moran, Mr. James                                          | male   | NA | 0 | 0 | 330877           |   8.4583 | <!----> | Q |\n|  7 | 0 | 1 | McCarthy, Mr. Timothy J                                   | male   | 54 | 0 | 0 | 17463            |  51.8625 | E46         | S |\n|  8 | 0 | 3 | Palsson, Master. Gosta Leonard                            | male   |  2 | 3 | 1 | 349909           |  21.0750 | <!----> | S |\n|  9 | 1 | 3 | Johnson, Mrs. Oscar W (Elisabeth Vilhelmina Berg)         | female | 27 | 0 | 2 | 347742           |  11.1333 | <!----> | S |\n| 10 | 1 | 2 | Nasser, Mrs. Nicholas (Adele Achem)                       | female | 14 | 1 | 0 | 237736           |  30.0708 | <!----> | C |\n| 11 | 1 | 3 | Sandstrom, Miss. Marguerite Rut                           | female |  4 | 1 | 1 | PP 9549          |  16.7000 | G6          | S |\n| 12 | 1 | 1 | Bonnell, Miss. Elizabeth                                  | female | 58 | 0 | 0 | 113783           |  26.5500 | C103        | S |\n| 13 | 0 | 3 | Saundercock, Mr. William Henry                            | male   | 20 | 0 | 0 | A/5. 2151        |   8.0500 | <!----> | S |\n| 14 | 0 | 3 | Andersson, Mr. Anders Johan                               | male   | 39 | 1 | 5 | 347082           |  31.2750 | <!----> | S |\n| 15 | 0 | 3 | Vestrom, Miss. Hulda Amanda Adolfina                      | female | 14 | 0 | 0 | 350406           |   7.8542 | <!----> | S |\n| 16 | 1 | 2 | Hewlett, Mrs. (Mary D Kingcome)                           | female | 55 | 0 | 0 | 248706           |  16.0000 | <!----> | S |\n| 17 | 0 | 3 | Rice, Master. Eugene                                      | male   |  2 | 4 | 1 | 382652           |  29.1250 | <!----> | Q |\n| 18 | 1 | 2 | Williams, Mr. Charles Eugene                              | male   | NA | 0 | 0 | 244373           |  13.0000 | <!----> | S |\n| 19 | 0 | 3 | Vander Planke, Mrs. Julius (Emelia Maria Vandemoortele)   | female | 31 | 1 | 0 | 345763           |  18.0000 | <!----> | S |\n| 20 | 1 | 3 | Masselmani, Mrs. Fatima                                   | female | NA | 0 | 0 | 2649             |   7.2250 | <!----> | C |\n| 21 | 0 | 2 | Fynney, Mr. Joseph J                                      | male   | 35 | 0 | 0 | 239865           |  26.0000 | <!----> | S |\n| 22 | 1 | 2 | Beesley, Mr. Lawrence                                     | male   | 34 | 0 | 0 | 248698           |  13.0000 | D56         | S |\n| 23 | 1 | 3 | McGowan, Miss. Anna \"Annie\"                               | female | 15 | 0 | 0 | 330923           |   8.0292 | <!----> | Q |\n| 24 | 1 | 1 | Sloper, Mr. William Thompson                              | male   | 28 | 0 | 0 | 113788           |  35.5000 | A6          | S |\n| 25 | 0 | 3 | Palsson, Miss. Torborg Danira                             | female |  8 | 3 | 1 | 349909           |  21.0750 | <!----> | S |\n| 26 | 1 | 3 | Asplund, Mrs. Carl Oscar (Selma Augusta Emilia Johansson) | female | 38 | 1 | 5 | 347077           |  31.3875 | <!----> | S |\n| 27 | 0 | 3 | Emir, Mr. Farred Chehab                                   | male   | NA | 0 | 0 | 2631             |   7.2250 | <!----> | C |\n| 28 | 0 | 1 | Fortune, Mr. Charles Alexander                            | male   | 19 | 3 | 2 | 19950            | 263.0000 | C23 C25 C27 | S |\n| 29 | 1 | 3 | O'Dwyer, Miss. Ellen \"Nellie\"                             | female | NA | 0 | 0 | 330959           |   7.8792 | <!----> | Q |\n| 30 | 0 | 3 | Todoroff, Mr. Lalio                                       | male   | NA | 0 | 0 | 349216           |   7.8958 | <!----> | S |\n| ⋮ | ⋮ | ⋮ | ⋮ | ⋮ | ⋮ | ⋮ | ⋮ | ⋮ | ⋮ | ⋮ | ⋮ |\n| 862 | 0 | 2 | Giles, Mr. Frederick Edward                         | male   | 21 | 1 | 0 | 28134            | 11.5000 | <!----> | S |\n| 863 | 1 | 1 | Swift, Mrs. Frederick Joel (Margaret Welles Barron) | female | 48 | 0 | 0 | 17466            | 25.9292 | D17         | S |\n| 864 | 0 | 3 | Sage, Miss. Dorothy Edith \"Dolly\"                   | female | NA | 8 | 2 | CA. 2343         | 69.5500 | <!----> | S |\n| 865 | 0 | 2 | Gill, Mr. John William                              | male   | 24 | 0 | 0 | 233866           | 13.0000 | <!----> | S |\n| 866 | 1 | 2 | Bystrom, Mrs. (Karolina)                            | female | 42 | 0 | 0 | 236852           | 13.0000 | <!----> | S |\n| 867 | 1 | 2 | Duran y More, Miss. Asuncion                        | female | 27 | 1 | 0 | SC/PARIS 2149    | 13.8583 | <!----> | C |\n| 868 | 0 | 1 | Roebling, Mr. Washington Augustus II                | male   | 31 | 0 | 0 | PC 17590         | 50.4958 | A24         | S |\n| 869 | 0 | 3 | van Melkebeke, Mr. Philemon                         | male   | NA | 0 | 0 | 345777           |  9.5000 | <!----> | S |\n| 870 | 1 | 3 | Johnson, Master. Harold Theodor                     | male   |  4 | 1 | 1 | 347742           | 11.1333 | <!----> | S |\n| 871 | 0 | 3 | Balkic, Mr. Cerin                                   | male   | 26 | 0 | 0 | 349248           |  7.8958 | <!----> | S |\n| 872 | 1 | 1 | Beckwith, Mrs. Richard Leonard (Sallie Monypeny)    | female | 47 | 1 | 1 | 11751            | 52.5542 | D35         | S |\n| 873 | 0 | 1 | Carlsson, Mr. Frans Olof                            | male   | 33 | 0 | 0 | 695              |  5.0000 | B51 B53 B55 | S |\n| 874 | 0 | 3 | Vander Cruyssen, Mr. Victor                         | male   | 47 | 0 | 0 | 345765           |  9.0000 | <!----> | S |\n| 875 | 1 | 2 | Abelson, Mrs. Samuel (Hannah Wizosky)               | female | 28 | 1 | 0 | P/PP 3381        | 24.0000 | <!----> | C |\n| 876 | 1 | 3 | Najib, Miss. Adele Kiamie \"Jane\"                    | female | 15 | 0 | 0 | 2667             |  7.2250 | <!----> | C |\n| 877 | 0 | 3 | Gustafsson, Mr. Alfred Ossian                       | male   | 20 | 0 | 0 | 7534             |  9.8458 | <!----> | S |\n| 878 | 0 | 3 | Petroff, Mr. Nedelio                                | male   | 19 | 0 | 0 | 349212           |  7.8958 | <!----> | S |\n| 879 | 0 | 3 | Laleff, Mr. Kristo                                  | male   | NA | 0 | 0 | 349217           |  7.8958 | <!----> | S |\n| 880 | 1 | 1 | Potter, Mrs. Thomas Jr (Lily Alexenia Wilson)       | female | 56 | 0 | 1 | 11767            | 83.1583 | C50         | C |\n| 881 | 1 | 2 | Shelley, Mrs. William (Imanita Parrish Hall)        | female | 25 | 0 | 1 | 230433           | 26.0000 | <!----> | S |\n| 882 | 0 | 3 | Markun, Mr. Johann                                  | male   | 33 | 0 | 0 | 349257           |  7.8958 | <!----> | S |\n| 883 | 0 | 3 | Dahlberg, Miss. Gerda Ulrika                        | female | 22 | 0 | 0 | 7552             | 10.5167 | <!----> | S |\n| 884 | 0 | 2 | Banfield, Mr. Frederick James                       | male   | 28 | 0 | 0 | C.A./SOTON 34068 | 10.5000 | <!----> | S |\n| 885 | 0 | 3 | Sutehall, Mr. Henry Jr                              | male   | 25 | 0 | 0 | SOTON/OQ 392076  |  7.0500 | <!----> | S |\n| 886 | 0 | 3 | Rice, Mrs. William (Margaret Norton)                | female | 39 | 0 | 5 | 382652           | 29.1250 | <!----> | Q |\n| 887 | 0 | 2 | Montvila, Rev. Juozas                               | male   | 27 | 0 | 0 | 211536           | 13.0000 | <!----> | S |\n| 888 | 1 | 1 | Graham, Miss. Margaret Edith                        | female | 19 | 0 | 0 | 112053           | 30.0000 | B42         | S |\n| 889 | 0 | 3 | Johnston, Miss. Catherine Helen \"Carrie\"            | female | NA | 1 | 2 | W./C. 6607       | 23.4500 | <!----> | S |\n| 890 | 1 | 1 | Behr, Mr. Karl Howell                               | male   | 26 | 0 | 0 | 111369           | 30.0000 | C148        | C |\n| 891 | 0 | 3 | Dooley, Mr. Patrick                                 | male   | 32 | 0 | 0 | 370376           |  7.7500 | <!----> | Q |\n\n",
            "text/latex": "A data.frame: 891 × 12\n\\begin{tabular}{llllllllllll}\n PassengerId & Survived & Pclass & Name & Sex & Age & SibSp & Parch & Ticket & Fare & Cabin & Embarked\\\\\n <int> & <int> & <int> & <chr> & <chr> & <dbl> & <int> & <int> & <chr> & <dbl> & <chr> & <chr>\\\\\n\\hline\n\t  1 & 0 & 3 & Braund, Mr. Owen Harris                                   & male   & 22 & 1 & 0 & A/5 21171        &   7.2500 &             & S\\\\\n\t  2 & 1 & 1 & Cumings, Mrs. John Bradley (Florence Briggs Thayer)       & female & 38 & 1 & 0 & PC 17599         &  71.2833 & C85         & C\\\\\n\t  3 & 1 & 3 & Heikkinen, Miss. Laina                                    & female & 26 & 0 & 0 & STON/O2. 3101282 &   7.9250 &             & S\\\\\n\t  4 & 1 & 1 & Futrelle, Mrs. Jacques Heath (Lily May Peel)              & female & 35 & 1 & 0 & 113803           &  53.1000 & C123        & S\\\\\n\t  5 & 0 & 3 & Allen, Mr. William Henry                                  & male   & 35 & 0 & 0 & 373450           &   8.0500 &             & S\\\\\n\t  6 & 0 & 3 & Moran, Mr. James                                          & male   & NA & 0 & 0 & 330877           &   8.4583 &             & Q\\\\\n\t  7 & 0 & 1 & McCarthy, Mr. Timothy J                                   & male   & 54 & 0 & 0 & 17463            &  51.8625 & E46         & S\\\\\n\t  8 & 0 & 3 & Palsson, Master. Gosta Leonard                            & male   &  2 & 3 & 1 & 349909           &  21.0750 &             & S\\\\\n\t  9 & 1 & 3 & Johnson, Mrs. Oscar W (Elisabeth Vilhelmina Berg)         & female & 27 & 0 & 2 & 347742           &  11.1333 &             & S\\\\\n\t 10 & 1 & 2 & Nasser, Mrs. Nicholas (Adele Achem)                       & female & 14 & 1 & 0 & 237736           &  30.0708 &             & C\\\\\n\t 11 & 1 & 3 & Sandstrom, Miss. Marguerite Rut                           & female &  4 & 1 & 1 & PP 9549          &  16.7000 & G6          & S\\\\\n\t 12 & 1 & 1 & Bonnell, Miss. Elizabeth                                  & female & 58 & 0 & 0 & 113783           &  26.5500 & C103        & S\\\\\n\t 13 & 0 & 3 & Saundercock, Mr. William Henry                            & male   & 20 & 0 & 0 & A/5. 2151        &   8.0500 &             & S\\\\\n\t 14 & 0 & 3 & Andersson, Mr. Anders Johan                               & male   & 39 & 1 & 5 & 347082           &  31.2750 &             & S\\\\\n\t 15 & 0 & 3 & Vestrom, Miss. Hulda Amanda Adolfina                      & female & 14 & 0 & 0 & 350406           &   7.8542 &             & S\\\\\n\t 16 & 1 & 2 & Hewlett, Mrs. (Mary D Kingcome)                           & female & 55 & 0 & 0 & 248706           &  16.0000 &             & S\\\\\n\t 17 & 0 & 3 & Rice, Master. Eugene                                      & male   &  2 & 4 & 1 & 382652           &  29.1250 &             & Q\\\\\n\t 18 & 1 & 2 & Williams, Mr. Charles Eugene                              & male   & NA & 0 & 0 & 244373           &  13.0000 &             & S\\\\\n\t 19 & 0 & 3 & Vander Planke, Mrs. Julius (Emelia Maria Vandemoortele)   & female & 31 & 1 & 0 & 345763           &  18.0000 &             & S\\\\\n\t 20 & 1 & 3 & Masselmani, Mrs. Fatima                                   & female & NA & 0 & 0 & 2649             &   7.2250 &             & C\\\\\n\t 21 & 0 & 2 & Fynney, Mr. Joseph J                                      & male   & 35 & 0 & 0 & 239865           &  26.0000 &             & S\\\\\n\t 22 & 1 & 2 & Beesley, Mr. Lawrence                                     & male   & 34 & 0 & 0 & 248698           &  13.0000 & D56         & S\\\\\n\t 23 & 1 & 3 & McGowan, Miss. Anna \"Annie\"                               & female & 15 & 0 & 0 & 330923           &   8.0292 &             & Q\\\\\n\t 24 & 1 & 1 & Sloper, Mr. William Thompson                              & male   & 28 & 0 & 0 & 113788           &  35.5000 & A6          & S\\\\\n\t 25 & 0 & 3 & Palsson, Miss. Torborg Danira                             & female &  8 & 3 & 1 & 349909           &  21.0750 &             & S\\\\\n\t 26 & 1 & 3 & Asplund, Mrs. Carl Oscar (Selma Augusta Emilia Johansson) & female & 38 & 1 & 5 & 347077           &  31.3875 &             & S\\\\\n\t 27 & 0 & 3 & Emir, Mr. Farred Chehab                                   & male   & NA & 0 & 0 & 2631             &   7.2250 &             & C\\\\\n\t 28 & 0 & 1 & Fortune, Mr. Charles Alexander                            & male   & 19 & 3 & 2 & 19950            & 263.0000 & C23 C25 C27 & S\\\\\n\t 29 & 1 & 3 & O'Dwyer, Miss. Ellen \"Nellie\"                             & female & NA & 0 & 0 & 330959           &   7.8792 &             & Q\\\\\n\t 30 & 0 & 3 & Todoroff, Mr. Lalio                                       & male   & NA & 0 & 0 & 349216           &   7.8958 &             & S\\\\\n\t ⋮ & ⋮ & ⋮ & ⋮ & ⋮ & ⋮ & ⋮ & ⋮ & ⋮ & ⋮ & ⋮ & ⋮\\\\\n\t 862 & 0 & 2 & Giles, Mr. Frederick Edward                         & male   & 21 & 1 & 0 & 28134            & 11.5000 &             & S\\\\\n\t 863 & 1 & 1 & Swift, Mrs. Frederick Joel (Margaret Welles Barron) & female & 48 & 0 & 0 & 17466            & 25.9292 & D17         & S\\\\\n\t 864 & 0 & 3 & Sage, Miss. Dorothy Edith \"Dolly\"                   & female & NA & 8 & 2 & CA. 2343         & 69.5500 &             & S\\\\\n\t 865 & 0 & 2 & Gill, Mr. John William                              & male   & 24 & 0 & 0 & 233866           & 13.0000 &             & S\\\\\n\t 866 & 1 & 2 & Bystrom, Mrs. (Karolina)                            & female & 42 & 0 & 0 & 236852           & 13.0000 &             & S\\\\\n\t 867 & 1 & 2 & Duran y More, Miss. Asuncion                        & female & 27 & 1 & 0 & SC/PARIS 2149    & 13.8583 &             & C\\\\\n\t 868 & 0 & 1 & Roebling, Mr. Washington Augustus II                & male   & 31 & 0 & 0 & PC 17590         & 50.4958 & A24         & S\\\\\n\t 869 & 0 & 3 & van Melkebeke, Mr. Philemon                         & male   & NA & 0 & 0 & 345777           &  9.5000 &             & S\\\\\n\t 870 & 1 & 3 & Johnson, Master. Harold Theodor                     & male   &  4 & 1 & 1 & 347742           & 11.1333 &             & S\\\\\n\t 871 & 0 & 3 & Balkic, Mr. Cerin                                   & male   & 26 & 0 & 0 & 349248           &  7.8958 &             & S\\\\\n\t 872 & 1 & 1 & Beckwith, Mrs. Richard Leonard (Sallie Monypeny)    & female & 47 & 1 & 1 & 11751            & 52.5542 & D35         & S\\\\\n\t 873 & 0 & 1 & Carlsson, Mr. Frans Olof                            & male   & 33 & 0 & 0 & 695              &  5.0000 & B51 B53 B55 & S\\\\\n\t 874 & 0 & 3 & Vander Cruyssen, Mr. Victor                         & male   & 47 & 0 & 0 & 345765           &  9.0000 &             & S\\\\\n\t 875 & 1 & 2 & Abelson, Mrs. Samuel (Hannah Wizosky)               & female & 28 & 1 & 0 & P/PP 3381        & 24.0000 &             & C\\\\\n\t 876 & 1 & 3 & Najib, Miss. Adele Kiamie \"Jane\"                    & female & 15 & 0 & 0 & 2667             &  7.2250 &             & C\\\\\n\t 877 & 0 & 3 & Gustafsson, Mr. Alfred Ossian                       & male   & 20 & 0 & 0 & 7534             &  9.8458 &             & S\\\\\n\t 878 & 0 & 3 & Petroff, Mr. Nedelio                                & male   & 19 & 0 & 0 & 349212           &  7.8958 &             & S\\\\\n\t 879 & 0 & 3 & Laleff, Mr. Kristo                                  & male   & NA & 0 & 0 & 349217           &  7.8958 &             & S\\\\\n\t 880 & 1 & 1 & Potter, Mrs. Thomas Jr (Lily Alexenia Wilson)       & female & 56 & 0 & 1 & 11767            & 83.1583 & C50         & C\\\\\n\t 881 & 1 & 2 & Shelley, Mrs. William (Imanita Parrish Hall)        & female & 25 & 0 & 1 & 230433           & 26.0000 &             & S\\\\\n\t 882 & 0 & 3 & Markun, Mr. Johann                                  & male   & 33 & 0 & 0 & 349257           &  7.8958 &             & S\\\\\n\t 883 & 0 & 3 & Dahlberg, Miss. Gerda Ulrika                        & female & 22 & 0 & 0 & 7552             & 10.5167 &             & S\\\\\n\t 884 & 0 & 2 & Banfield, Mr. Frederick James                       & male   & 28 & 0 & 0 & C.A./SOTON 34068 & 10.5000 &             & S\\\\\n\t 885 & 0 & 3 & Sutehall, Mr. Henry Jr                              & male   & 25 & 0 & 0 & SOTON/OQ 392076  &  7.0500 &             & S\\\\\n\t 886 & 0 & 3 & Rice, Mrs. William (Margaret Norton)                & female & 39 & 0 & 5 & 382652           & 29.1250 &             & Q\\\\\n\t 887 & 0 & 2 & Montvila, Rev. Juozas                               & male   & 27 & 0 & 0 & 211536           & 13.0000 &             & S\\\\\n\t 888 & 1 & 1 & Graham, Miss. Margaret Edith                        & female & 19 & 0 & 0 & 112053           & 30.0000 & B42         & S\\\\\n\t 889 & 0 & 3 & Johnston, Miss. Catherine Helen \"Carrie\"            & female & NA & 1 & 2 & W./C. 6607       & 23.4500 &             & S\\\\\n\t 890 & 1 & 1 & Behr, Mr. Karl Howell                               & male   & 26 & 0 & 0 & 111369           & 30.0000 & C148        & C\\\\\n\t 891 & 0 & 3 & Dooley, Mr. Patrick                                 & male   & 32 & 0 & 0 & 370376           &  7.7500 &             & Q\\\\\n\\end{tabular}\n",
            "text/plain": [
              "    PassengerId Survived Pclass\n",
              "1    1          0        3     \n",
              "2    2          1        1     \n",
              "3    3          1        3     \n",
              "4    4          1        1     \n",
              "5    5          0        3     \n",
              "6    6          0        3     \n",
              "7    7          0        1     \n",
              "8    8          0        3     \n",
              "9    9          1        3     \n",
              "10  10          1        2     \n",
              "11  11          1        3     \n",
              "12  12          1        1     \n",
              "13  13          0        3     \n",
              "14  14          0        3     \n",
              "15  15          0        3     \n",
              "16  16          1        2     \n",
              "17  17          0        3     \n",
              "18  18          1        2     \n",
              "19  19          0        3     \n",
              "20  20          1        3     \n",
              "21  21          0        2     \n",
              "22  22          1        2     \n",
              "23  23          1        3     \n",
              "24  24          1        1     \n",
              "25  25          0        3     \n",
              "26  26          1        3     \n",
              "27  27          0        3     \n",
              "28  28          0        1     \n",
              "29  29          1        3     \n",
              "30  30          0        3     \n",
              "⋮   ⋮           ⋮        ⋮     \n",
              "862 862         0        2     \n",
              "863 863         1        1     \n",
              "864 864         0        3     \n",
              "865 865         0        2     \n",
              "866 866         1        2     \n",
              "867 867         1        2     \n",
              "868 868         0        1     \n",
              "869 869         0        3     \n",
              "870 870         1        3     \n",
              "871 871         0        3     \n",
              "872 872         1        1     \n",
              "873 873         0        1     \n",
              "874 874         0        3     \n",
              "875 875         1        2     \n",
              "876 876         1        3     \n",
              "877 877         0        3     \n",
              "878 878         0        3     \n",
              "879 879         0        3     \n",
              "880 880         1        1     \n",
              "881 881         1        2     \n",
              "882 882         0        3     \n",
              "883 883         0        3     \n",
              "884 884         0        2     \n",
              "885 885         0        3     \n",
              "886 886         0        3     \n",
              "887 887         0        2     \n",
              "888 888         1        1     \n",
              "889 889         0        3     \n",
              "890 890         1        1     \n",
              "891 891         0        3     \n",
              "    Name                                                      Sex    Age SibSp\n",
              "1   Braund, Mr. Owen Harris                                   male   22  1    \n",
              "2   Cumings, Mrs. John Bradley (Florence Briggs Thayer)       female 38  1    \n",
              "3   Heikkinen, Miss. Laina                                    female 26  0    \n",
              "4   Futrelle, Mrs. Jacques Heath (Lily May Peel)              female 35  1    \n",
              "5   Allen, Mr. William Henry                                  male   35  0    \n",
              "6   Moran, Mr. James                                          male   NA  0    \n",
              "7   McCarthy, Mr. Timothy J                                   male   54  0    \n",
              "8   Palsson, Master. Gosta Leonard                            male    2  3    \n",
              "9   Johnson, Mrs. Oscar W (Elisabeth Vilhelmina Berg)         female 27  0    \n",
              "10  Nasser, Mrs. Nicholas (Adele Achem)                       female 14  1    \n",
              "11  Sandstrom, Miss. Marguerite Rut                           female  4  1    \n",
              "12  Bonnell, Miss. Elizabeth                                  female 58  0    \n",
              "13  Saundercock, Mr. William Henry                            male   20  0    \n",
              "14  Andersson, Mr. Anders Johan                               male   39  1    \n",
              "15  Vestrom, Miss. Hulda Amanda Adolfina                      female 14  0    \n",
              "16  Hewlett, Mrs. (Mary D Kingcome)                           female 55  0    \n",
              "17  Rice, Master. Eugene                                      male    2  4    \n",
              "18  Williams, Mr. Charles Eugene                              male   NA  0    \n",
              "19  Vander Planke, Mrs. Julius (Emelia Maria Vandemoortele)   female 31  1    \n",
              "20  Masselmani, Mrs. Fatima                                   female NA  0    \n",
              "21  Fynney, Mr. Joseph J                                      male   35  0    \n",
              "22  Beesley, Mr. Lawrence                                     male   34  0    \n",
              "23  McGowan, Miss. Anna \"Annie\"                               female 15  0    \n",
              "24  Sloper, Mr. William Thompson                              male   28  0    \n",
              "25  Palsson, Miss. Torborg Danira                             female  8  3    \n",
              "26  Asplund, Mrs. Carl Oscar (Selma Augusta Emilia Johansson) female 38  1    \n",
              "27  Emir, Mr. Farred Chehab                                   male   NA  0    \n",
              "28  Fortune, Mr. Charles Alexander                            male   19  3    \n",
              "29  O'Dwyer, Miss. Ellen \"Nellie\"                             female NA  0    \n",
              "30  Todoroff, Mr. Lalio                                       male   NA  0    \n",
              "⋮   ⋮                                                         ⋮      ⋮   ⋮    \n",
              "862 Giles, Mr. Frederick Edward                               male   21  1    \n",
              "863 Swift, Mrs. Frederick Joel (Margaret Welles Barron)       female 48  0    \n",
              "864 Sage, Miss. Dorothy Edith \"Dolly\"                         female NA  8    \n",
              "865 Gill, Mr. John William                                    male   24  0    \n",
              "866 Bystrom, Mrs. (Karolina)                                  female 42  0    \n",
              "867 Duran y More, Miss. Asuncion                              female 27  1    \n",
              "868 Roebling, Mr. Washington Augustus II                      male   31  0    \n",
              "869 van Melkebeke, Mr. Philemon                               male   NA  0    \n",
              "870 Johnson, Master. Harold Theodor                           male    4  1    \n",
              "871 Balkic, Mr. Cerin                                         male   26  0    \n",
              "872 Beckwith, Mrs. Richard Leonard (Sallie Monypeny)          female 47  1    \n",
              "873 Carlsson, Mr. Frans Olof                                  male   33  0    \n",
              "874 Vander Cruyssen, Mr. Victor                               male   47  0    \n",
              "875 Abelson, Mrs. Samuel (Hannah Wizosky)                     female 28  1    \n",
              "876 Najib, Miss. Adele Kiamie \"Jane\"                          female 15  0    \n",
              "877 Gustafsson, Mr. Alfred Ossian                             male   20  0    \n",
              "878 Petroff, Mr. Nedelio                                      male   19  0    \n",
              "879 Laleff, Mr. Kristo                                        male   NA  0    \n",
              "880 Potter, Mrs. Thomas Jr (Lily Alexenia Wilson)             female 56  0    \n",
              "881 Shelley, Mrs. William (Imanita Parrish Hall)              female 25  0    \n",
              "882 Markun, Mr. Johann                                        male   33  0    \n",
              "883 Dahlberg, Miss. Gerda Ulrika                              female 22  0    \n",
              "884 Banfield, Mr. Frederick James                             male   28  0    \n",
              "885 Sutehall, Mr. Henry Jr                                    male   25  0    \n",
              "886 Rice, Mrs. William (Margaret Norton)                      female 39  0    \n",
              "887 Montvila, Rev. Juozas                                     male   27  0    \n",
              "888 Graham, Miss. Margaret Edith                              female 19  0    \n",
              "889 Johnston, Miss. Catherine Helen \"Carrie\"                  female NA  1    \n",
              "890 Behr, Mr. Karl Howell                                     male   26  0    \n",
              "891 Dooley, Mr. Patrick                                       male   32  0    \n",
              "    Parch Ticket           Fare     Cabin       Embarked\n",
              "1   0     A/5 21171          7.2500             S       \n",
              "2   0     PC 17599          71.2833 C85         C       \n",
              "3   0     STON/O2. 3101282   7.9250             S       \n",
              "4   0     113803            53.1000 C123        S       \n",
              "5   0     373450             8.0500             S       \n",
              "6   0     330877             8.4583             Q       \n",
              "7   0     17463             51.8625 E46         S       \n",
              "8   1     349909            21.0750             S       \n",
              "9   2     347742            11.1333             S       \n",
              "10  0     237736            30.0708             C       \n",
              "11  1     PP 9549           16.7000 G6          S       \n",
              "12  0     113783            26.5500 C103        S       \n",
              "13  0     A/5. 2151          8.0500             S       \n",
              "14  5     347082            31.2750             S       \n",
              "15  0     350406             7.8542             S       \n",
              "16  0     248706            16.0000             S       \n",
              "17  1     382652            29.1250             Q       \n",
              "18  0     244373            13.0000             S       \n",
              "19  0     345763            18.0000             S       \n",
              "20  0     2649               7.2250             C       \n",
              "21  0     239865            26.0000             S       \n",
              "22  0     248698            13.0000 D56         S       \n",
              "23  0     330923             8.0292             Q       \n",
              "24  0     113788            35.5000 A6          S       \n",
              "25  1     349909            21.0750             S       \n",
              "26  5     347077            31.3875             S       \n",
              "27  0     2631               7.2250             C       \n",
              "28  2     19950            263.0000 C23 C25 C27 S       \n",
              "29  0     330959             7.8792             Q       \n",
              "30  0     349216             7.8958             S       \n",
              "⋮   ⋮     ⋮                ⋮        ⋮           ⋮       \n",
              "862 0     28134            11.5000              S       \n",
              "863 0     17466            25.9292  D17         S       \n",
              "864 2     CA. 2343         69.5500              S       \n",
              "865 0     233866           13.0000              S       \n",
              "866 0     236852           13.0000              S       \n",
              "867 0     SC/PARIS 2149    13.8583              C       \n",
              "868 0     PC 17590         50.4958  A24         S       \n",
              "869 0     345777            9.5000              S       \n",
              "870 1     347742           11.1333              S       \n",
              "871 0     349248            7.8958              S       \n",
              "872 1     11751            52.5542  D35         S       \n",
              "873 0     695               5.0000  B51 B53 B55 S       \n",
              "874 0     345765            9.0000              S       \n",
              "875 0     P/PP 3381        24.0000              C       \n",
              "876 0     2667              7.2250              C       \n",
              "877 0     7534              9.8458              S       \n",
              "878 0     349212            7.8958              S       \n",
              "879 0     349217            7.8958              S       \n",
              "880 1     11767            83.1583  C50         C       \n",
              "881 1     230433           26.0000              S       \n",
              "882 0     349257            7.8958              S       \n",
              "883 0     7552             10.5167              S       \n",
              "884 0     C.A./SOTON 34068 10.5000              S       \n",
              "885 0     SOTON/OQ 392076   7.0500              S       \n",
              "886 5     382652           29.1250              Q       \n",
              "887 0     211536           13.0000              S       \n",
              "888 0     112053           30.0000  B42         S       \n",
              "889 2     W./C. 6607       23.4500              S       \n",
              "890 0     111369           30.0000  C148        C       \n",
              "891 0     370376            7.7500              Q       "
            ]
          },
          "metadata": {}
        }
      ]
    },
    {
      "cell_type": "code",
      "source": [
        "titanic_train$PassengerId  <- NULL             # supprimer PassengerId\n",
        "titanic_train$Ticket  <- NULL                  # supprimer Ticket\n",
        "titanic_train$Name <- as.character(titanic_train$Name)    # Convert name to character\n",
        "\n",
        "titanic_train$Pclass <- ordered(titanic_train$Pclass,     # Convert to ordered factor\n",
        "                                levels=c(\"3\",\"2\",\"1\"))  \n",
        "\n",
        "# Reduce cabin factor levels\n",
        "char_cabin <- as.character(titanic_train$Cabin)     \n",
        "\n",
        "\n",
        "new_Cabin <- ifelse(char_cabin == \"\",          \n",
        "                    \"\",                        \n",
        "                    substr(char_cabin,1,1))    \n",
        "\n",
        "new_Cabin <- factor(new_Cabin )                \n",
        "titanic_train$Cabin <- new_Cabin"
      ],
      "metadata": {
        "id": "YEnuL3X1jHsM"
      },
      "execution_count": 11,
      "outputs": []
    },
    {
      "cell_type": "code",
      "source": [
        "impute <- preProcess(titanic_train[,c(5:8)],  # Impute missing ages*\n",
        "                     method=c(\"knnImpute\"))\n",
        "\n",
        "titanic_train_imp <- predict(impute, titanic_train[,c(5:8)])     \n",
        "\n",
        "titanic_train <- cbind(titanic_train[,c(1:4)], titanic_train_imp, titanic_train[,c(9:10)])"
      ],
      "metadata": {
        "id": "LBpzewM3kd50"
      },
      "execution_count": 12,
      "outputs": []
    },
    {
      "cell_type": "code",
      "source": [
        "summary(titanic_train)"
      ],
      "metadata": {
        "colab": {
          "base_uri": "https://localhost:8080/",
          "height": 434
        },
        "id": "7rovOheQkd8U",
        "outputId": "2deed48b-43df-4a1f-bf91-2f6f9cecaba5"
      },
      "execution_count": 13,
      "outputs": [
        {
          "output_type": "display_data",
          "data": {
            "text/plain": [
              "    Survived      Pclass      Name               Sex           \n",
              " Min.   :0.0000   3:491   Length:891         Length:891        \n",
              " 1st Qu.:0.0000   2:184   Class :character   Class :character  \n",
              " Median :0.0000   1:216   Mode  :character   Mode  :character  \n",
              " Mean   :0.3838                                                \n",
              " 3rd Qu.:1.0000                                                \n",
              " Max.   :1.0000                                                \n",
              "                                                               \n",
              "      Age                SibSp             Parch              Fare         \n",
              " Min.   :-2.015566   Min.   :-0.4743   Min.   :-0.4734   Min.   :-0.64806  \n",
              " 1st Qu.:-0.530005   1st Qu.:-0.4743   1st Qu.:-0.4734   1st Qu.:-0.48887  \n",
              " Median :-0.048127   Median :-0.4743   Median :-0.4734   Median :-0.35719  \n",
              " Mean   :-0.007142   Mean   : 0.0000   Mean   : 0.0000   Mean   : 0.00000  \n",
              " 3rd Qu.: 0.433751   3rd Qu.: 0.4325   3rd Qu.:-0.4734   3rd Qu.:-0.02423  \n",
              " Max.   : 3.462699   Max.   : 6.7804   Max.   : 6.9702   Max.   : 9.66174  \n",
              "                                                                           \n",
              "     Cabin       Embarked        \n",
              "        :687   Length:891        \n",
              " C      : 59   Class :character  \n",
              " B      : 47   Mode  :character  \n",
              " D      : 33                     \n",
              " E      : 32                     \n",
              " A      : 15                     \n",
              " (Other): 18                     "
            ]
          },
          "metadata": {}
        }
      ]
    },
    {
      "cell_type": "markdown",
      "source": [
        "je vais utuliser que les variables numériques Age, sibSp, Parch et Fare pour l'imputation car la fonction d'imputation que j'ai appeler n'accepte que les variables numériques.\n",
        "\n",
        "Nous sommes maintenant prêts à utiliser un modèle de régression logistique pour prédire la chance de vie. On créer un modèle de régression logistique en transmettant une formule à la fonction glm(). Créons un modèle de régression logistique qui utilise uniquement la variable Sexe comme prédicteur."
      ],
      "metadata": {
        "id": "rMoPlw5uo_4E"
      }
    },
    {
      "cell_type": "code",
      "source": [
        "titanic_model <- glm(Survived ~ Sex,        # Formule\n",
        "                    data= titanic_train,    # Data set\n",
        "                    family=\"binomial\")      # family=\"binomial\" for binary logistic\n",
        "\n",
        "summary(titanic_model)                      # Check model summary"
      ],
      "metadata": {
        "colab": {
          "base_uri": "https://localhost:8080/",
          "height": 399
        },
        "id": "EX_Bpvw6kiZV",
        "outputId": "3d6877dc-fdea-49ca-c8cd-abf5a6dda220"
      },
      "execution_count": 14,
      "outputs": [
        {
          "output_type": "display_data",
          "data": {
            "text/plain": [
              "\n",
              "Call:\n",
              "glm(formula = Survived ~ Sex, family = \"binomial\", data = titanic_train)\n",
              "\n",
              "Deviance Residuals: \n",
              "    Min       1Q   Median       3Q      Max  \n",
              "-1.6462  -0.6471  -0.6471   0.7725   1.8256  \n",
              "\n",
              "Coefficients:\n",
              "            Estimate Std. Error z value Pr(>|z|)    \n",
              "(Intercept)   1.0566     0.1290   8.191 2.58e-16 ***\n",
              "Sexmale      -2.5137     0.1672 -15.036  < 2e-16 ***\n",
              "---\n",
              "Signif. codes:  0 ‘***’ 0.001 ‘**’ 0.01 ‘*’ 0.05 ‘.’ 0.1 ‘ ’ 1\n",
              "\n",
              "(Dispersion parameter for binomial family taken to be 1)\n",
              "\n",
              "    Null deviance: 1186.7  on 890  degrees of freedom\n",
              "Residual deviance:  917.8  on 889  degrees of freedom\n",
              "AIC: 921.8\n",
              "\n",
              "Number of Fisher Scoring iterations: 4\n"
            ]
          },
          "metadata": {}
        }
      ]
    },
    {
      "cell_type": "code",
      "source": [
        "train_preds <- predict(titanic_model,              # Model utulisé\n",
        "                       newdata=titanic_train,      # Data utulisé pour la prediction\n",
        "                       type=\"response\")            # Return les probabilités de prediction\n",
        "\n",
        "table(train_preds, titanic_train$Sex)"
      ],
      "metadata": {
        "colab": {
          "base_uri": "https://localhost:8080/",
          "height": 86
        },
        "id": "f5iNGa5gkibs",
        "outputId": "20016a0b-c394-41ab-8672-11874b61428d"
      },
      "execution_count": 15,
      "outputs": [
        {
          "output_type": "display_data",
          "data": {
            "text/plain": [
              "                   \n",
              "train_preds         female male\n",
              "  0.188908145580594      0  577\n",
              "  0.742038216559934    314    0"
            ]
          },
          "metadata": {}
        }
      ]
    },
    {
      "cell_type": "markdown",
      "source": [
        "Le tableau montre que le modèle a prédit une chance de survie d'environ 19 % pour les hommes et de 74 % pour les femmes"
      ],
      "metadata": {
        "id": "Ux2FJdkhogD2"
      }
    },
    {
      "cell_type": "markdown",
      "source": [
        "on fait les choses un peu compliqué, en ajoutant les autres variables."
      ],
      "metadata": {
        "id": "WYiCanG2rP91"
      }
    },
    {
      "cell_type": "code",
      "source": [
        "titanic_model <- glm(Survived ~ Sex+Pclass+Age+SibSp+Cabin,\n",
        "                    data= titanic_train,       \n",
        "                    family=\"binomial\")         \n",
        "\n",
        "predicted_probabilities <- predict(titanic_model,              \n",
        "                           newdata=titanic_train,      \n",
        "                           type=\"response\")            \n",
        "\n",
        "summary(titanic_model)"
      ],
      "metadata": {
        "colab": {
          "base_uri": "https://localhost:8080/",
          "height": 625
        },
        "id": "uUzjFBfgkigv",
        "outputId": "60e98021-a783-416f-8617-d3532148af41"
      },
      "execution_count": 16,
      "outputs": [
        {
          "output_type": "display_data",
          "data": {
            "text/plain": [
              "\n",
              "Call:\n",
              "glm(formula = Survived ~ Sex + Pclass + Age + SibSp + Cabin, \n",
              "    family = \"binomial\", data = titanic_train)\n",
              "\n",
              "Deviance Residuals: \n",
              "    Min       1Q   Median       3Q      Max  \n",
              "-2.6288  -0.5745  -0.3982   0.6118   2.4398  \n",
              "\n",
              "Coefficients:\n",
              "            Estimate Std. Error z value Pr(>|z|)    \n",
              "(Intercept)   1.2369     0.1902   6.502 7.91e-11 ***\n",
              "Sexmale      -2.7460     0.1986 -13.830  < 2e-16 ***\n",
              "Pclass.L      1.2955     0.2863   4.525 6.05e-06 ***\n",
              "Pclass.Q     -0.1792     0.2155  -0.832 0.405671    \n",
              "Age          -0.6040     0.1179  -5.121 3.04e-07 ***\n",
              "SibSp        -0.4440     0.1161  -3.823 0.000132 ***\n",
              "CabinA        0.8144     0.6688   1.218 0.223339    \n",
              "CabinB        0.8924     0.5466   1.633 0.102535    \n",
              "CabinC        0.3838     0.4882   0.786 0.431779    \n",
              "CabinD        1.2372     0.5647   2.191 0.028444 *  \n",
              "CabinE        1.5554     0.5570   2.792 0.005236 ** \n",
              "CabinF        1.1714     0.7135   1.642 0.100656    \n",
              "CabinG       -0.8805     1.0544  -0.835 0.403658    \n",
              "CabinT      -12.4742   535.4113  -0.023 0.981412    \n",
              "---\n",
              "Signif. codes:  0 ‘***’ 0.001 ‘**’ 0.01 ‘*’ 0.05 ‘.’ 0.1 ‘ ’ 1\n",
              "\n",
              "(Dispersion parameter for binomial family taken to be 1)\n",
              "\n",
              "    Null deviance: 1186.66  on 890  degrees of freedom\n",
              "Residual deviance:  774.04  on 877  degrees of freedom\n",
              "AIC: 802.04\n",
              "\n",
              "Number of Fisher Scoring iterations: 12\n"
            ]
          },
          "metadata": {}
        }
      ]
    },
    {
      "cell_type": "markdown",
      "source": [
        "Nous pouvons convertir les probabilités prédites en prédictions de classe en supposant que toute observation avec une probabilité prédite de 0,5 ou plus est un résultat positif (dans ce cas, a survécu) et que les cas inférieurs à 0,5 sont négatifs pour la classe que nous prédisons."
      ],
      "metadata": {
        "id": "t5aDaJ7gr_vV"
      }
    },
    {
      "cell_type": "code",
      "source": [
        "# Convert to 0, 1 preds\n",
        "class_preds <- ifelse(predicted_probabilities >= 0.5, 1, 0)  \n",
        "\n",
        "# Make a table of predictions vs. actual\n",
        "result_table <- table(class_preds,             \n",
        "                      titanic_train$Survived)  \n",
        "\n",
        "result_table"
      ],
      "metadata": {
        "colab": {
          "base_uri": "https://localhost:8080/",
          "height": 86
        },
        "id": "9c6iXtLLkd-u",
        "outputId": "a0df78bf-3d54-45f2-af4b-b0ee92d59f74"
      },
      "execution_count": 17,
      "outputs": [
        {
          "output_type": "display_data",
          "data": {
            "text/plain": [
              "           \n",
              "class_preds   0   1\n",
              "          0 471  90\n",
              "          1  78 252"
            ]
          },
          "metadata": {}
        }
      ]
    },
    {
      "cell_type": "markdown",
      "source": [
        "# matrice de confusion"
      ],
      "metadata": {
        "id": "L5Y2TEMWr3ji"
      }
    },
    {
      "cell_type": "code",
      "source": [
        "(472+238)/sum(result_table)"
      ],
      "metadata": {
        "colab": {
          "base_uri": "https://localhost:8080/",
          "height": 34
        },
        "id": "3W1n6Ik2raXF",
        "outputId": "66c54903-740f-4db8-906f-63f42978aed9"
      },
      "execution_count": 18,
      "outputs": [
        {
          "output_type": "display_data",
          "data": {
            "text/html": [
              "0.79685746352413"
            ],
            "text/markdown": "0.79685746352413",
            "text/latex": "0.79685746352413",
            "text/plain": [
              "[1] 0.7968575"
            ]
          },
          "metadata": {}
        }
      ]
    },
    {
      "cell_type": "code",
      "source": [
        "confusionMatrix(data = factor(class_preds), \n",
        "                reference = factor(titanic_train$Survived),\n",
        "                positive = \"1\")      # Set the positive class to Survived"
      ],
      "metadata": {
        "colab": {
          "base_uri": "https://localhost:8080/",
          "height": 486
        },
        "id": "ICsO8oQesE06",
        "outputId": "e484fecd-8b57-456f-811e-48e857d691e2"
      },
      "execution_count": 19,
      "outputs": [
        {
          "output_type": "display_data",
          "data": {
            "text/plain": [
              "Confusion Matrix and Statistics\n",
              "\n",
              "          Reference\n",
              "Prediction   0   1\n",
              "         0 471  90\n",
              "         1  78 252\n",
              "                                          \n",
              "               Accuracy : 0.8114          \n",
              "                 95% CI : (0.7842, 0.8366)\n",
              "    No Information Rate : 0.6162          \n",
              "    P-Value [Acc > NIR] : <2e-16          \n",
              "                                          \n",
              "                  Kappa : 0.5987          \n",
              "                                          \n",
              " Mcnemar's Test P-Value : 0.3961          \n",
              "                                          \n",
              "            Sensitivity : 0.7368          \n",
              "            Specificity : 0.8579          \n",
              "         Pos Pred Value : 0.7636          \n",
              "         Neg Pred Value : 0.8396          \n",
              "             Prevalence : 0.3838          \n",
              "         Detection Rate : 0.2828          \n",
              "   Detection Prevalence : 0.3704          \n",
              "      Balanced Accuracy : 0.7974          \n",
              "                                          \n",
              "       'Positive' Class : 1               \n",
              "                                          "
            ]
          },
          "metadata": {}
        }
      ]
    },
    {
      "cell_type": "markdown",
      "source": [
        "la matrice de confusion confirme notre calcul de précision et nous montre plusieurs autres mesures d'évaluation. La précision équilibrée est la moyenne de la sensibilité et de la spécificité, ce qui peut nous donner une meilleure idée des performances globales du modèle que la précision pure.\n"
      ],
      "metadata": {
        "id": "kszLpYwYsU7b"
      }
    },
    {
      "cell_type": "markdown",
      "source": [
        "generalement on a eu des bonne resultat avec le medel logisitic regression, et celle ci meme n'est pas avec tous les variables et sans pretratement profondes des données. ce qui confirme l'importance et la puissance de le model logistic regression.\n",
        "\n",
        "\n",
        "je pense avec plus de travail, on peut atteindre meme plus que 90 % accuracy."
      ],
      "metadata": {
        "id": "H0_guh-0sb-9"
      }
    },
    {
      "cell_type": "code",
      "source": [
        ""
      ],
      "metadata": {
        "id": "h4l4RKXbsGm8"
      },
      "execution_count": null,
      "outputs": []
    }
  ]
}